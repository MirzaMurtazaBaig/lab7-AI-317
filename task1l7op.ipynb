{
 "cells": [
  {
   "cell_type": "code",
   "execution_count": 1,
   "id": "f8ff608c-d37f-42c1-8b01-d51e1d35769b",
   "metadata": {},
   "outputs": [
    {
     "name": "stdout",
     "output_type": "stream",
     "text": [
      "Original DataFrame:\n",
      "    Student  Math  English  Science\n",
      "0    Alice  85.0     88.0     92.0\n",
      "1      Bob  78.0      NaN     80.0\n",
      "2  Charlie   NaN     75.0     70.0\n",
      "3    David  90.0     95.0      NaN\n",
      "\n",
      "DataFrame after forward fill:\n",
      "    Student  Math  English  Science\n",
      "0    Alice  85.0     88.0     92.0\n",
      "1      Bob  78.0     88.0     80.0\n",
      "2  Charlie  78.0     75.0     70.0\n",
      "3    David  90.0     95.0     70.0\n"
     ]
    },
    {
     "name": "stderr",
     "output_type": "stream",
     "text": [
      "C:\\Users\\AA\\AppData\\Local\\Temp\\ipykernel_13760\\1959608696.py:16: FutureWarning: DataFrame.fillna with 'method' is deprecated and will raise in a future version. Use obj.ffill() or obj.bfill() instead.\n",
      "  df_filled = df.fillna(method='ffill')\n"
     ]
    }
   ],
   "source": [
    "import pandas as pd\n",
    "import numpy as np\n",
    "\n",
    "# Sample dictionary with students' scores\n",
    "data = {\n",
    "    'Student': ['Alice', 'Bob', 'Charlie', 'David'],\n",
    "    'Math': [85, 78, np.nan, 90],\n",
    "    'English': [88, np.nan, 75, 95],\n",
    "    'Science': [92, 80, 70, np.nan]\n",
    "}\n",
    "\n",
    "# Create DataFrame\n",
    "df = pd.DataFrame(data)\n",
    "\n",
    "# Fill missing values using forward fill\n",
    "df_filled = df.fillna(method='ffill')\n",
    "\n",
    "print(\"Original DataFrame:\\n\", df)\n",
    "print(\"\\nDataFrame after forward fill:\\n\", df_filled)\n"
   ]
  },
  {
   "cell_type": "code",
   "execution_count": null,
   "id": "86968544-32a7-4cbb-a2eb-88619d4c0e8d",
   "metadata": {},
   "outputs": [],
   "source": []
  }
 ],
 "metadata": {
  "kernelspec": {
   "display_name": "Python 3 (ipykernel)",
   "language": "python",
   "name": "python3"
  },
  "language_info": {
   "codemirror_mode": {
    "name": "ipython",
    "version": 3
   },
   "file_extension": ".py",
   "mimetype": "text/x-python",
   "name": "python",
   "nbconvert_exporter": "python",
   "pygments_lexer": "ipython3",
   "version": "3.12.7"
  }
 },
 "nbformat": 4,
 "nbformat_minor": 5
}
